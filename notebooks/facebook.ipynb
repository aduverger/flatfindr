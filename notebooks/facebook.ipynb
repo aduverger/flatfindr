{
 "cells": [
  {
   "cell_type": "code",
   "execution_count": 15,
   "metadata": {},
   "outputs": [
    {
     "name": "stdout",
     "output_type": "stream",
     "text": [
      "The autoreload extension is already loaded. To reload it, use:\n",
      "  %reload_ext autoreload\n"
     ]
    }
   ],
   "source": [
    "from flatfindr.facebook import Facebook\n",
    "from collections import defaultdict\n",
    "from time import sleep\n",
    "import random\n",
    "%load_ext autoreload\n",
    "%autoreload 2"
   ]
  },
  {
   "cell_type": "code",
   "execution_count": 3,
   "metadata": {},
   "outputs": [],
   "source": [
    "fb = Facebook()\n",
    "fb.log_in()\n",
    "item_links = fb.scrape_item_links()\n"
   ]
  },
  {
   "cell_type": "code",
   "execution_count": 21,
   "metadata": {},
   "outputs": [
    {
     "name": "stdout",
     "output_type": "stream",
     "text": [
      "Nous louons notre condo familial situé en plein cœur du centre-ville, à proximité du Vieux Port, Quartier Latin, Quartier Latin, Vieux Port et Chinatown.\n",
      "Il est présentement en préparation et sera disponible en octobre seulement.\n",
      "Notre unité de coin est très bien éclairée par de la lumière naturelle et offre une vue sur la rue René-Lévesque.\n",
      "Vous aurez accès à un gym avec sauna et douche de vapeur, ainsi qu’une piscine extérieure en été avec terrasse et barbecue. Voir moins\n",
      "Nous louons notre condo familial situé en plein cœur du centre-ville, à proximité du Vieux Port, Quartier Latin, Quartier Latin, Vieux Port et Chinatown.\n",
      "Il est présentement en préparation et sera disponible en octobre seulement.\n",
      "Notre unité de coin est très bien éclairée par de la lumière naturelle et offre une vue sur la rue René-Lévesque.\n",
      "Vous aurez accès à un gym avec sauna et douche de vapeur, ainsi qu’une piscine extérieure en été avec terrasse et barbecue. \n",
      "url: https://www.facebook.com/marketplace/item/307713670713922/\n",
      "price ($/month): 1700\n",
      "adress: 555 Boulevard René-Lévesque E, Montréal, QC\n",
      "surface (m2): 796\n",
      "bedrooms: 2\n",
      "furnished: Non meublé\n",
      "description: Nous louons notre condo familial situé en plein cœur du centre-ville, à proximité du Vieux Port, Quartier Latin, Quartier Latin, Vieux Port et Chinatown.\n",
      "Il est présentement en préparation et sera disponible en octobre seulement.\n",
      "Notre unité de coin est très bien éclairée par de la lumière naturelle et offre une vue sur la rue René-Lévesque.\n",
      "Vous aurez accès à un gym avec sauna et douche de vapeur, ainsi qu’une piscine extérieure en été avec terrasse et barbecue. \n"
     ]
    }
   ],
   "source": [
    "index = random.randint(0, len(item_links) - 1)\n",
    "url = item_links[index]\n",
    "db = defaultdict(list)\n",
    "db['url'].append(url)\n",
    "\n",
    "fb.driver.get(url)\n",
    "# Click on 'see more' button to have the full description\n",
    "buttons = fb.driver.find_elements_by_xpath(\"//div[@role='button']\")\n",
    "for button in buttons:\n",
    "    if button.text == 'Voir plus':\n",
    "        button.click()\n",
    "        sleep(random.uniform(1, 1.5))\n",
    "\n",
    "full_desc_list = fb.driver.find_elements_by_xpath(\"//span[@dir]\")\n",
    "price, adress, surface, bedrooms, furnished, description = True, True, True, True, True, True\n",
    "for i in range(len(full_desc_list)):\n",
    "    desc = full_desc_list[i].text\n",
    "    if price and '$ / mois' in desc:\n",
    "        db['price ($/month)'].append(int(desc[:5].replace(' ', '')))\n",
    "        price = False\n",
    "    elif adress and 'Montréal, QC' in desc:\n",
    "        db['adress'].append(desc)\n",
    "        adress = False\n",
    "    elif surface and 'mètres carrés' in desc:\n",
    "        db['surface (m2)'].append(int(desc[:4].replace(' ', '')))\n",
    "        surface = False\n",
    "    elif surface and 'pieds carrés' in desc:\n",
    "        db['surface (m2)'].append(round(int(desc[:4].replace(' ', '')) / 10.764))\n",
    "        surface = False\n",
    "    elif bedrooms and 'chambres · ' in desc:\n",
    "        db['bedrooms'].append(int(desc[0]))\n",
    "        bedrooms = False\n",
    "    elif furnished and 'eublé' in desc:\n",
    "        db['furnished'].append(desc)\n",
    "        furnished = False\n",
    "    elif description and desc == 'Description':\n",
    "        db['description'].append(full_desc_list[i+1].text.replace('Voir moins', ''))\n",
    "        description = False\n",
    "        \n",
    "for key, value in db.items():\n",
    "    print(key+':', value[0])"
   ]
  },
  {
   "cell_type": "code",
   "execution_count": null,
   "metadata": {},
   "outputs": [],
   "source": []
  }
 ],
 "metadata": {
  "interpreter": {
   "hash": "0e81dea60ba2ae063098b6fefffc9a3fe963b5aba2665de3e2390959e71061a4"
  },
  "kernelspec": {
   "display_name": "Python 3.8.12 64-bit ('base': conda)",
   "language": "python",
   "name": "python3"
  },
  "language_info": {
   "codemirror_mode": {
    "name": "ipython",
    "version": 3
   },
   "file_extension": ".py",
   "mimetype": "text/x-python",
   "name": "python",
   "nbconvert_exporter": "python",
   "pygments_lexer": "ipython3",
   "version": "3.8.12"
  },
  "orig_nbformat": 4
 },
 "nbformat": 4,
 "nbformat_minor": 2
}
