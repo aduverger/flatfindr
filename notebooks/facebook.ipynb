{
 "cells": [
  {
   "cell_type": "code",
   "execution_count": 6,
   "metadata": {},
   "outputs": [
    {
     "name": "stdout",
     "output_type": "stream",
     "text": [
      "The autoreload extension is already loaded. To reload it, use:\n",
      "  %reload_ext autoreload\n"
     ]
    }
   ],
   "source": [
    "from flatfindr.facebook import Facebook\n",
    "from collections import defaultdict\n",
    "from time import sleep\n",
    "import random\n",
    "from PIL import Image\n",
    "import requests\n",
    "from io import BytesIO\n",
    "%load_ext autoreload\n",
    "%autoreload 2"
   ]
  },
  {
   "cell_type": "code",
   "execution_count": 2,
   "metadata": {},
   "outputs": [
    {
     "name": "stdout",
     "output_type": "stream",
     "text": [
      "/Users/aduverger/code/aduverger/flatfindr/raw_data\n"
     ]
    }
   ],
   "source": [
    "fb = Facebook()\n",
    "fb.log_in()\n",
    "item_links = fb.scrape_item_links()\n"
   ]
  },
  {
   "cell_type": "markdown",
   "metadata": {},
   "source": []
  },
  {
   "cell_type": "code",
   "execution_count": 8,
   "metadata": {},
   "outputs": [
    {
     "name": "stdout",
     "output_type": "stream",
     "text": [
      "url: https://www.facebook.com/marketplace/item/459231015857147/\n",
      "price($/month): 1300\n",
      "adress: \n",
      "bedrooms: 2\n",
      "furnished: Non meublé\n",
      "description: Suite à ma situation de santé , je cède mon bail et je vends mon mobilier et accessoires de coiffure et manucure pose d'ongles résine et poudre à qui veut bien au complet pour se partir en affaires! Je demande 10 000$ pour tout. Veuillez me contacter en privé pour les infos! Super abordable et en plein centre du plateau Mont royal au centre-ville de Montréal !♡♡♡ un bijou pour qui rêve d'avoir son propre salon!♡ vente rapide! Produits, coloration, meubles, laveuse-sécheuse, rangements, etc. \n",
      "\n",
      "**Possibilité aussi d'habiter en haut du local! **\n",
      "J'adore la Propriétaire alors je veux vraiment quelqu'un de bien pour le salon! Possibilité aussi de faire un salon d'esthétique. \n"
     ]
    }
   ],
   "source": [
    "index = random.randint(0, len(item_links) - 1)\n",
    "url = item_links[index]\n",
    "db = defaultdict(list)\n",
    "db['url'].append(url)\n",
    "\n",
    "fb.driver.get(url)\n",
    "# Click on 'see more' button to have the full description\n",
    "buttons = fb.driver.find_elements_by_xpath(\"//div[@role='button']\")\n",
    "_ = [button.click() for button in buttons if button.text == 'Voir plus']\n",
    "sleep(random.uniform(0.2, 0.5))\n",
    "\n",
    "details = fb.driver.find_elements_by_xpath(\"//span[@dir]\")\n",
    "price, adress, surface, bedrooms, description = [True] * 5\n",
    "for i in range(len(details)):\n",
    "    detail = details[i].text\n",
    "    if price and \"$ / mois\" in detail:\n",
    "        db[\"price($/month)\"].append(int(detail[:5].replace(\" \", \"\")))\n",
    "        price = False\n",
    "    elif adress and \"Montréal, QC\" in detail:\n",
    "        db[\"adress\"].append(detail.replace(\"Montréal, QC\", \"\"))\n",
    "        adress = False\n",
    "    elif surface and \"mètres carrés\" in detail:\n",
    "        db[\"surface(m2)\"].append(int(detail[:4].replace(\" \", \"\")))\n",
    "        surface = False\n",
    "    elif surface and \"pieds carrés\" in detail:\n",
    "        db[\"surface(m2)\"].append(\n",
    "            round(int(detail[:4].replace(\" \", \"\")) / 10.764)\n",
    "        )\n",
    "        surface = False\n",
    "    elif bedrooms and \"chambres · \" in detail:\n",
    "        db[\"bedrooms\"].append(int(detail[0]))\n",
    "        bedrooms = False\n",
    "    elif detail in ('Meublé', 'Non meublé'):\n",
    "        db[\"furnished\"].append(detail)\n",
    "    elif description and detail == \"Description\":\n",
    "        db[\"description\"].append(details[i + 1].text.replace(\"Voir moins\", \"\"))\n",
    "        description = False\n",
    "        \n",
    "img = fb.driver.find_element_by_xpath(\"//img[@referrerpolicy='origin-when-cross-origin']\")\n",
    "db[\"image\"].append(img.get_attribute(\"src\"))\n",
    "\n",
    "for key, value in db.items():\n",
    "    if key != 'image':\n",
    "        print(key+':', value[-1])\n",
    "    else:\n",
    "        response = requests.get(db['image'][-1])\n",
    "        display(Image.open(BytesIO(response.content)).resize((400, 400)))\n",
    "        "
   ]
  },
  {
   "cell_type": "code",
   "execution_count": null,
   "metadata": {},
   "outputs": [],
   "source": []
  }
 ],
 "metadata": {
  "interpreter": {
   "hash": "0e81dea60ba2ae063098b6fefffc9a3fe963b5aba2665de3e2390959e71061a4"
  },
  "kernelspec": {
   "display_name": "Python 3.8.12 64-bit ('base': conda)",
   "language": "python",
   "name": "python3"
  },
  "language_info": {
   "codemirror_mode": {
    "name": "ipython",
    "version": 3
   },
   "file_extension": ".py",
   "mimetype": "text/x-python",
   "name": "python",
   "nbconvert_exporter": "python",
   "pygments_lexer": "ipython3",
   "version": "3.8.12"
  },
  "orig_nbformat": 4
 },
 "nbformat": 4,
 "nbformat_minor": 2
}
