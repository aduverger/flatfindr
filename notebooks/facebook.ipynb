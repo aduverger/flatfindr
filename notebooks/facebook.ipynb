{
 "cells": [
  {
   "cell_type": "code",
   "execution_count": 1,
   "metadata": {},
   "outputs": [],
   "source": [
    "from flatfindr.facebook import Facebook\n",
    "from flatfindr.utils import KEYWORDS\n",
    "from collections import defaultdict\n",
    "from time import sleep\n",
    "import random\n",
    "from PIL import Image\n",
    "import requests\n",
    "from io import BytesIO\n",
    "%load_ext autoreload\n",
    "%autoreload 2"
   ]
  },
  {
   "cell_type": "code",
   "execution_count": 2,
   "metadata": {},
   "outputs": [],
   "source": [
    "fb = Facebook()\n",
    "fb.log_in()"
   ]
  },
  {
   "cell_type": "code",
   "execution_count": 7,
   "metadata": {},
   "outputs": [],
   "source": [
    "fb = Facebook()\n",
    "fb.driver.get('file:///Users/aduverger/code/aduverger/flatfindr/raw_data/test2')"
   ]
  },
  {
   "cell_type": "markdown",
   "metadata": {},
   "source": []
  },
  {
   "cell_type": "code",
   "execution_count": 7,
   "metadata": {},
   "outputs": [
    {
     "name": "stdout",
     "output_type": "stream",
     "text": [
      "url: https://www.facebook.com/marketplace/item/1296614274099443/\n",
      "price: 1350\n",
      "address: \n",
      "published: 3\n",
      "bedrooms: 3\n",
      "description: Grand 5 1/2 à louer à Montréal St/Leonard.           \n",
      "3 chambres fermées garde-robe, 1 salle de bain avec entrée laveuse/sécheuse, cuisine fermée avec entrée cuisinière et frigo. \n",
      "Proche des commodités, commerces et écoles. \n",
      "Accès à l’autoroute 40 et arrêts de bus 141 et 372 à 9 min à pieds.\n",
      "Idéal pour collocation ou famille. 1350$ charges non inclus. Stationnement disponible payant. \n",
      "Disponible maintenant ! \n",
      "Texto seulement ou WhatsApp au [hidden information] Kanku \n"
     ]
    }
   ],
   "source": [
    "index = random.randint(0, len(item_links) - 1)\n",
    "item_url = item_links[index]\n",
    "db = {}\n",
    "db[\"url\"] = item_url\n",
    "\n",
    "fb.driver.get(item_url)\n",
    "# Click on 'see more' button to have the full description\n",
    "buttons = fb.driver.find_elements_by_xpath(\"//div[@role='button']\")\n",
    "_ = [button.click() for button in buttons if button.text == \"Voir plus\"]\n",
    "sleep(random.uniform(0.2, 0.5))\n",
    "\n",
    "details = fb.driver.find_elements_by_xpath(\"//span[@dir]\")\n",
    "for i in range(len(details)):\n",
    "    detail = details[i].text\n",
    "    if not db.get(\"published\", False) and KEYWORDS[\"published\"] in detail:\n",
    "        if KEYWORDS['day'] in detail: # if published less than a week\n",
    "            db[\"published\"] = int(detail[20])\n",
    "        else:\n",
    "            db[\"published\"] = 8\n",
    "    if not db.get(\"price\", False) and KEYWORDS[\"price\"] in detail:\n",
    "        db[\"price\"] = int(detail[:5].replace(\" \", \"\"))\n",
    "    elif not db.get(\"address\", False) and KEYWORDS[\"address\"] in detail:\n",
    "        db[\"address\"] = detail.replace(\"Montréal, QC\", \"\").replace(', ', '')\n",
    "    elif not db.get(\"surface\", False) and KEYWORDS[\"surface(m2)\"] in detail:\n",
    "        surface = int(detail[:4].replace(\" \", \"\"))\n",
    "        if surface > 200: # if the seller indicated square meters but is actually square feet\n",
    "            surface = round(surface / 10.764)\n",
    "        db[\"surface\"] = surface\n",
    "    elif not db.get(\"surface\", False) and KEYWORDS[\"surface(ft2)\"] in detail:\n",
    "        db[\"surface\"] = round(int(detail[:4].replace(\" \", \"\")) / 10.764)\n",
    "    elif not db.get(\"bedrooms\", False) and KEYWORDS[\"bedrooms\"] in detail:\n",
    "        db[\"bedrooms\"] = int(detail[0])\n",
    "    elif not db.get(\"furnished\", False) and detail in KEYWORDS[\"furnished\"]:\n",
    "        db[\"furnished\"] = detail\n",
    "    elif not db.get(\"description\", False) and detail == KEYWORDS[\"description\"]:\n",
    "        db[\"description\"] = details[i + 1].text.replace(\"Voir moins\", \"\")\n",
    "\n",
    "db[\"image\"] = set()\n",
    "last_db_len = -1\n",
    "while len(db[\"image\"]) != last_db_len:\n",
    "    last_db_len = len(db[\"image\"])\n",
    "    img = fb.driver.find_element_by_xpath(\n",
    "        \"//img[@referrerpolicy='origin-when-cross-origin']\"\n",
    "    )\n",
    "    db[\"image\"].add(img.get_attribute(\"src\"))\n",
    "    next_button = fb.driver.find_element_by_xpath(\n",
    "        \"//div[@aria-label='Voir l’image suivante']\"\n",
    "    )\n",
    "    next_button.click()\n",
    "    sleep(random.uniform(0.6, 1))\n",
    "\n",
    "for key, value in db.items():\n",
    "    if key != \"image\":\n",
    "        print(key + \":\", value)\n",
    "    # else:\n",
    "    #     for img_url in db['image']:\n",
    "    #         response = requests.get(img_url)\n",
    "    #         display(Image.open(BytesIO(response.content)).resize((400, 400)))"
   ]
  },
  {
   "cell_type": "code",
   "execution_count": null,
   "metadata": {},
   "outputs": [],
   "source": []
  }
 ],
 "metadata": {
  "interpreter": {
   "hash": "0e81dea60ba2ae063098b6fefffc9a3fe963b5aba2665de3e2390959e71061a4"
  },
  "kernelspec": {
   "display_name": "Python 3.8.12 64-bit ('base': conda)",
   "language": "python",
   "name": "python3"
  },
  "language_info": {
   "codemirror_mode": {
    "name": "ipython",
    "version": 3
   },
   "file_extension": ".py",
   "mimetype": "text/x-python",
   "name": "python",
   "nbconvert_exporter": "python",
   "pygments_lexer": "ipython3",
   "version": "3.8.12"
  },
  "orig_nbformat": 4
 },
 "nbformat": 4,
 "nbformat_minor": 2
}
