{
 "cells": [
  {
   "cell_type": "code",
   "execution_count": 1,
   "metadata": {},
   "outputs": [],
   "source": [
    "import os\n",
    "import pandas as pd\n",
    "from flatfindr.utils import *\n",
    "%load_ext autoreload\n",
    "%autoreload 2\n",
    "\n",
    "# Import DB\n",
    "db_path = os.path.join(\n",
    "            os.path.dirname(os.getcwd()),\n",
    "            \"raw_data/db.json\",\n",
    "        )"
   ]
  },
  {
   "cell_type": "markdown",
   "metadata": {},
   "source": [
    "# Check new ads"
   ]
  },
  {
   "cell_type": "code",
   "execution_count": 3,
   "metadata": {},
   "outputs": [
    {
     "data": {
      "text/plain": [
       "'Number of new ads: 15'"
      ]
     },
     "execution_count": 3,
     "metadata": {},
     "output_type": "execute_result"
    }
   ],
   "source": [
    "# Check how many new ads there are\n",
    "f\"Number of new ads: {df[df.state == 'new'].shape[0]}\""
   ]
  },
  {
   "cell_type": "code",
   "execution_count": null,
   "metadata": {},
   "outputs": [],
   "source": [
    "with open(db_path, 'r') as db_file:\n",
    "    df = pd.read_json(db_file, orient='split')\n",
    "\n",
    "interested = []\n",
    "not_interested = []\n",
    "\n",
    "for idx in interested:\n",
    "    df.loc[idx, 'state'] = 'I'\n",
    "for idx in not_interested:\n",
    "    df.loc[idx, 'state'] = 'NI'\n",
    "    \n",
    "with open(db_path, 'w') as db_file:\n",
    "    df.to_json(path_or_buf=db_file, orient='split', index=False)\n",
    "\n",
    "df_show = df[df.state == 'new'].drop(columns=['state'])\n",
    "df_show.style.format({\n",
    "    'url': make_url_clickable,\n",
    "    'images': make_img_clickable,\n",
    "    'address': make_address_clickable\n",
    "    })\n"
   ]
  },
  {
   "cell_type": "markdown",
   "metadata": {},
   "source": [
    "Save changes:"
   ]
  },
  {
   "cell_type": "code",
   "execution_count": 23,
   "metadata": {},
   "outputs": [],
   "source": [
    "with open(db_path, 'w') as db_file:\n",
    "    df.to_json(path_or_buf=db_file, orient='split', index=False)"
   ]
  },
  {
   "cell_type": "markdown",
   "metadata": {},
   "source": [
    "# Check interesting ads"
   ]
  },
  {
   "cell_type": "code",
   "execution_count": null,
   "metadata": {},
   "outputs": [],
   "source": [
    "df2 = df[df.state == 'I'].drop(columns=['state'])\n",
    "df2.style.format({\n",
    "    'url': make_url_clickable,\n",
    "    'images': make_img_clickable,\n",
    "    'address': make_address_clickable\n",
    "    })"
   ]
  }
 ],
 "metadata": {
  "interpreter": {
   "hash": "0e81dea60ba2ae063098b6fefffc9a3fe963b5aba2665de3e2390959e71061a4"
  },
  "kernelspec": {
   "display_name": "Python 3.8.12 64-bit ('base': conda)",
   "language": "python",
   "name": "python3"
  },
  "language_info": {
   "codemirror_mode": {
    "name": "ipython",
    "version": 3
   },
   "file_extension": ".py",
   "mimetype": "text/x-python",
   "name": "python",
   "nbconvert_exporter": "python",
   "pygments_lexer": "ipython3",
   "version": "3.8.12"
  },
  "orig_nbformat": 4
 },
 "nbformat": 4,
 "nbformat_minor": 2
}
