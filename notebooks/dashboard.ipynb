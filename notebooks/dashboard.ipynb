{
 "cells": [
  {
   "cell_type": "code",
   "execution_count": 5,
   "metadata": {},
   "outputs": [
    {
     "name": "stdout",
     "output_type": "stream",
     "text": [
      "The autoreload extension is already loaded. To reload it, use:\n",
      "  %reload_ext autoreload\n"
     ]
    }
   ],
   "source": [
    "import os\n",
    "import pandas as pd\n",
    "import json\n",
    "from flatfindr.utils import *\n",
    "%load_ext autoreload\n",
    "%autoreload 2\n",
    "\n",
    "db_path = os.path.join(\n",
    "            os.path.dirname(os.getcwd()),\n",
    "            \"raw_data/db.json\",\n",
    "        )\n",
    "with open(db_path, 'r') as db_file:\n",
    "    df = pd.read_json(db_file, orient='split')"
   ]
  },
  {
   "cell_type": "markdown",
   "metadata": {},
   "source": [
    "# Check new ads"
   ]
  },
  {
   "cell_type": "code",
   "execution_count": 6,
   "metadata": {},
   "outputs": [
    {
     "data": {
      "text/html": [
       "<style type=\"text/css\">\n",
       "</style>\n",
       "<table id=\"T_b1503_\">\n",
       "  <thead>\n",
       "    <tr>\n",
       "      <th class=\"blank level0\" >&nbsp;</th>\n",
       "      <th class=\"col_heading level0 col0\" >url</th>\n",
       "      <th class=\"col_heading level0 col1\" >published</th>\n",
       "      <th class=\"col_heading level0 col2\" >price</th>\n",
       "      <th class=\"col_heading level0 col3\" >bedrooms</th>\n",
       "      <th class=\"col_heading level0 col4\" >surface</th>\n",
       "      <th class=\"col_heading level0 col5\" >address</th>\n",
       "      <th class=\"col_heading level0 col6\" >furnished</th>\n",
       "      <th class=\"col_heading level0 col7\" >images</th>\n",
       "      <th class=\"col_heading level0 col8\" >description</th>\n",
       "    </tr>\n",
       "  </thead>\n",
       "  <tbody>\n",
       "    <tr>\n",
       "      <th id=\"T_b1503_level0_row0\" class=\"row_heading level0 row0\" >0</th>\n",
       "      <td id=\"T_b1503_row0_col0\" class=\"data row0 col0\" ><a target='_blank' href='https://www.facebook.com/marketplace/item/433751008150264/'>0264</a></td>\n",
       "      <td id=\"T_b1503_row0_col1\" class=\"data row0 col1\" >2022-01-17</td>\n",
       "      <td id=\"T_b1503_row0_col2\" class=\"data row0 col2\" >1250</td>\n",
       "      <td id=\"T_b1503_row0_col3\" class=\"data row0 col3\" >2</td>\n",
       "      <td id=\"T_b1503_row0_col4\" class=\"data row0 col4\" ></td>\n",
       "      <td id=\"T_b1503_row0_col5\" class=\"data row0 col5\" ><a target='_blank' href='https://www.google.com/maps/place/1566+Rue+de+Champlain,+Montr%C3%A9al,+QC'>1566 Rue de Champlain</a></td>\n",
       "      <td id=\"T_b1503_row0_col6\" class=\"data row0 col6\" ></td>\n",
       "      <td id=\"T_b1503_row0_col7\" class=\"data row0 col7\" >[\"<a target='_blank' href='https://scontent-lga3-1.xx.fbcdn.net/v/t45.5328-4/s960x960/260409940_4878762692135774_3490804096103998732_n.jpg?_nc_cat=101&ccb=1-5&_nc_sid=c48759&_nc_ohc=hjrUIv3N7oIAX-LeU-C&_nc_oc=AQnWxdvyr50J626GBW-GjlsdCCGbeDhvq8G6Cd404KX9dQtpfjt7Xf7uF51Xk6z2HNo&_nc_ht=scontent-lga3-1.xx&oh=00_AT9TPu8f5qMspmNZqYw9-beZiFLTfHKrOG63KP8OiS5iNQ&oe=61F54534'>_1_</a>\", \"<a target='_blank' href='https://scontent-lga3-1.xx.fbcdn.net/v/t45.5328-4/p720x720/258960569_4741452675910787_6466820659038391162_n.jpg?_nc_cat=102&ccb=1-5&_nc_sid=c48759&_nc_ohc=CIgiv32xk3AAX8C8_LK&_nc_ht=scontent-lga3-1.xx&oh=00_AT9tR0W-Jmbjz7Lit1biSLU0TmIX-zvw5a-wv9EUKtvVfQ&oe=61F51235'>_2_</a>\", \"<a target='_blank' href='https://scontent-lga3-1.xx.fbcdn.net/v/t45.5328-4/p720x720/259621556_4992486620781706_4610746635507760438_n.jpg?_nc_cat=104&ccb=1-5&_nc_sid=c48759&_nc_ohc=jPV-knMBB0gAX_LQTeY&_nc_ht=scontent-lga3-1.xx&oh=00_AT_BA_qbDBeyVN06pRzIAPJv_ySe3Z2A84XJ4c2PZFqCzw&oe=61F65FD3'>_3_</a>\", \"<a target='_blank' href='https://scontent-lga3-1.xx.fbcdn.net/v/t45.5328-4/p720x720/259702166_4905325359498977_9051794730074188433_n.jpg?_nc_cat=109&ccb=1-5&_nc_sid=c48759&_nc_ohc=4FwDm-yAyuQAX_EG0G8&_nc_ht=scontent-lga3-1.xx&oh=00_AT9zbcuf3kBFfB4ebApCFvnzm539b6axBIgJneySM8H4IQ&oe=61F65531'>_4_</a>\", \"<a target='_blank' href='https://scontent-lga3-1.xx.fbcdn.net/v/t45.5328-4/p720x720/259091387_4372762809512220_2273431182306744043_n.jpg?_nc_cat=104&ccb=1-5&_nc_sid=c48759&_nc_ohc=9dEEe0cuG-0AX8ZDwIX&_nc_ht=scontent-lga3-1.xx&oh=00_AT9rb6rqGnr87LSsU-frztVBtWJvy4Hy0XNR6DvZb3lUjg&oe=61F575BD'>_5_</a>\", \"<a target='_blank' href='https://scontent-lga3-1.xx.fbcdn.net/v/t45.5328-4/p720x720/259614903_5277188958961085_4081287683522671661_n.jpg?_nc_cat=103&ccb=1-5&_nc_sid=c48759&_nc_ohc=GX5f2v0hnyIAX9nxFkB&_nc_ht=scontent-lga3-1.xx&oh=00_AT-pumi6mi9_fopbPxNMsbJ_a4NvRoTK9JFPl0Lql44KaA&oe=61F60D7F'>_6_</a>\", \"<a target='_blank' href='https://scontent-lga3-1.xx.fbcdn.net/v/t45.5328-4/p720x720/257450586_3993287767439170_7474896521401877116_n.jpg?_nc_cat=107&ccb=1-5&_nc_sid=c48759&_nc_ohc=n5OVJ6ams4gAX-AKrFe&_nc_ht=scontent-lga3-1.xx&oh=00_AT_wSwfMosmAjxoVqKqCWG3u3HXYpjqFSSmHH8olcER3fw&oe=61F5AA1D'>_7_</a>\", \"<a target='_blank' href='https://scontent-lga3-1.xx.fbcdn.net/v/t45.5328-4/p720x720/259426097_4621433711246215_8202593820951887407_n.jpg?_nc_cat=102&ccb=1-5&_nc_sid=c48759&_nc_ohc=nXUQppIBdhgAX9Znplj&_nc_ht=scontent-lga3-1.xx&oh=00_AT-hkK3VW_Do2rUBuMm9-zObX-qfsSkREyZZNjE-vBYXSg&oe=61F65E81'>_8_</a>\", \"<a target='_blank' href='https://scontent-lga3-1.xx.fbcdn.net/v/t45.5328-4/p720x720/258773748_4472845706168857_4316339102763759939_n.jpg?_nc_cat=102&ccb=1-5&_nc_sid=c48759&_nc_ohc=Aj-Pf_J0mgoAX9QuSG4&_nc_oc=AQnq1nSxju2NCpoqg2ZOQr-bPIgPP1mONDSsoR7tFTqvuMrx7mqZZCXt8xQCL2sCT0Q&_nc_ht=scontent-lga3-1.xx&oh=00_AT9FcXQhH6UV1-ZF29gDhv0Q2ZoxMdmSk0xHk5ANmWJd7g&oe=61F55575'>_9_</a>\", \"<a target='_blank' href='https://scontent-lga3-1.xx.fbcdn.net/v/t45.5328-4/p720x720/259232686_4580900712023353_8951078925128566353_n.jpg?_nc_cat=107&ccb=1-5&_nc_sid=c48759&_nc_ohc=AqwM1yWhTK4AX_OxJIz&_nc_ht=scontent-lga3-1.xx&oh=00_AT_wMfEKXuLYqIIwblyR6N-qhEreSnwACMlSrb5k_FuG6g&oe=61F5BC69'>_10_</a>\", \"<a target='_blank' href='https://scontent-lga3-1.xx.fbcdn.net/v/t45.5328-4/p720x720/257577782_4315276071915915_7211937785088129905_n.jpg?_nc_cat=110&ccb=1-5&_nc_sid=c48759&_nc_ohc=aEhmMfSGDucAX8vQXe9&_nc_ht=scontent-lga3-1.xx&oh=00_AT83r8-VBM353FWvbcaXkrgD3cwWTgHwVWhC-MALbtXXBw&oe=61F5F6CA'>_11_</a>\", \"<a target='_blank' href='https://scontent-lga3-1.xx.fbcdn.net/v/t45.5328-4/p720x720/260008085_6631940796846067_7718631350023994237_n.jpg?_nc_cat=104&ccb=1-5&_nc_sid=c48759&_nc_ohc=VN9ZS09KRokAX-p4hwq&_nc_ht=scontent-lga3-1.xx&oh=00_AT_vytG1I4lIjOBbEKNPCY1iM9Rhvp2XKSzkjHcsjskYxA&oe=61F4A8EF'>_12_</a>\", \"<a target='_blank' href='https://scontent-lga3-1.xx.fbcdn.net/v/t45.5328-4/p720x720/257450586_4703820142989730_6612177339718035368_n.jpg?_nc_cat=104&ccb=1-5&_nc_sid=c48759&_nc_ohc=-mYro0LZKMAAX-SoRvP&_nc_ht=scontent-lga3-1.xx&oh=00_AT9xphz3FYaFNPDnt7WSBDVvihvG0jLfb46A24FD7ec3HQ&oe=61F4C57E'>_13_</a>\", \"<a target='_blank' href='https://scontent-lga3-1.xx.fbcdn.net/v/t45.5328-4/p720x720/259621556_4601730166572490_3451331951729577569_n.jpg?_nc_cat=110&ccb=1-5&_nc_sid=c48759&_nc_ohc=4AeNjLpkJRcAX9EgZ_x&_nc_ht=scontent-lga3-1.xx&oh=00_AT8fC_puEV_j9i_DyPfMt3ukJr37nHpaiQ3akiSHYTGb6g&oe=61F65CD1'>_14_</a>\", \"<a target='_blank' href='https://scontent-lga3-1.xx.fbcdn.net/v/t45.5328-4/p720x720/259953606_6542709382469117_3766225364966837774_n.jpg?_nc_cat=109&ccb=1-5&_nc_sid=c48759&_nc_ohc=WJjpj4HNLl0AX-Y0BK6&_nc_oc=AQmx1PiVmYwhXNriK9iO-89iABxTUaSPJwxhUUTZotkGnzFHBufnJ5CDRhks0rhMXk8&_nc_ht=scontent-lga3-1.xx&oh=00_AT-uC0fTOGfapilANvndV4tOaAv4OrRAakrOK4XtosKa5A&oe=61F52F9E'>_15_</a>\"]</td>\n",
       "      <td id=\"T_b1503_row0_col8\" class=\"data row0 col8\" >Bonjour ✨ (english below)\n",
       "\n",
       "Nous cherchons à céder notre beau 4 1/2 lumineux très bien situé dans le Village, à 5 min à pieds du metro Papineau et 7 min du metro Beaudry. Très proche de tous les services, dans un quartier super vivant, l'appartement a l'accès sur une cour arrière spacieuse et tranquille. \n",
       "\n",
       "- entrée laveuse-sécheuse dans l'appartement\n",
       "- hydro +- 70$/mois\n",
       "- belle cour arrière partagée + balcon\n",
       "- disponible pour 1er décembre mais possibilité d'emménager plus tôt\n",
       "- chambre du fond nouvellement rénovée\n",
       "- chats acceptés\n",
       "- 1250$/mois\n",
       "\n",
       "We're looking to pass our light 2 bedrooms well located in the Village, 5 min walk from metro Papineau and 7 min from Beaudry. Very close to all services, in a lively neighborhood, the apartment has a spacious and quiet backyard. \n",
       "\n",
       "- In-unit entry for dryer/washing machine (possibility to include it without extra fees)\n",
       "- electricity +-70$/month\n",
       "- spacious shared backyard + balcony\n",
       "- one of the room freshly renovated\n",
       "- available for December but  possibility to move in earlier)\n",
       "- cats accepted\n",
       "- 1250$/month  </td>\n",
       "    </tr>\n",
       "    <tr>\n",
       "      <th id=\"T_b1503_level0_row1\" class=\"row_heading level0 row1\" >1</th>\n",
       "      <td id=\"T_b1503_row1_col0\" class=\"data row1 col0\" ><a target='_blank' href='https://www.facebook.com/marketplace/item/1528214370850829/'>0829</a></td>\n",
       "      <td id=\"T_b1503_row1_col1\" class=\"data row1 col1\" >2022-01-17</td>\n",
       "      <td id=\"T_b1503_row1_col2\" class=\"data row1 col2\" >1350</td>\n",
       "      <td id=\"T_b1503_row1_col3\" class=\"data row1 col3\" >2</td>\n",
       "      <td id=\"T_b1503_row1_col4\" class=\"data row1 col4\" ></td>\n",
       "      <td id=\"T_b1503_row1_col5\" class=\"data row1 col5\" ><a target='_blank' href='https://www.google.com/maps/place/2026+Rue+de+Montcalm,+Montr%C3%A9al,+QC'>2026 Rue de Montcalm</a></td>\n",
       "      <td id=\"T_b1503_row1_col6\" class=\"data row1 col6\" >Non meublé</td>\n",
       "      <td id=\"T_b1503_row1_col7\" class=\"data row1 col7\" >[\"<a target='_blank' href='https://scontent-lga3-1.xx.fbcdn.net/v/t39.30808-6/s960x960/253371813_1025653064662176_7758787414641911920_n.jpg?_nc_cat=103&ccb=1-5&_nc_sid=843cd7&_nc_ohc=TiLpDmHmLw8AX9WFLnJ&_nc_ht=scontent-lga3-1.xx&oh=00_AT9Ga7Ctt6SXNiT7dTIVSXIsFhx_M272T1lDeYMbWy-A2g&oe=61F564A7'>_1_</a>\", \"<a target='_blank' href='https://scontent-lga3-1.xx.fbcdn.net/v/t39.30808-6/s960x960/251815739_1025653247995491_8903412232064928809_n.jpg?_nc_cat=103&ccb=1-5&_nc_sid=843cd7&_nc_ohc=DMcQ22uj10MAX8Oez5N&_nc_ht=scontent-lga3-1.xx&oh=00_AT8zZJpt14uJfxeIK0sqtkwMKJb_jKN8pxw9WO1lYFLIfw&oe=61F528F1'>_2_</a>\", \"<a target='_blank' href='https://scontent-lga3-1.xx.fbcdn.net/v/t39.30808-6/s960x960/254543674_1025653137995502_4021299180780254267_n.jpg?_nc_cat=101&ccb=1-5&_nc_sid=843cd7&_nc_ohc=LPZemE3PrVEAX9inhj0&_nc_ht=scontent-lga3-1.xx&oh=00_AT9aDoV885l5FhutqavGN1AIEpAcrkkHYzD4bOuh6Qwy6g&oe=61F5D312'>_3_</a>\", \"<a target='_blank' href='https://scontent-lga3-1.xx.fbcdn.net/v/t39.30808-6/s960x960/254277018_1025653167995499_2403473365045191281_n.jpg?_nc_cat=106&ccb=1-5&_nc_sid=843cd7&_nc_ohc=T5IZyCv44aoAX-MC119&_nc_ht=scontent-lga3-1.xx&oh=00_AT8JoLZUQAU_l3fxGtmKsZ9YNgAe_S5ikSixZVVvYkJ6Jw&oe=61F6316D'>_4_</a>\", \"<a target='_blank' href='https://scontent-lga3-1.xx.fbcdn.net/v/t39.30808-6/s960x960/251279943_1025653077995508_2811258732365331985_n.jpg?_nc_cat=111&ccb=1-5&_nc_sid=843cd7&_nc_ohc=zQrNLn7NWhAAX-9u4ru&_nc_ht=scontent-lga3-1.xx&oh=00_AT96dwVrO4mLwAm-wDhRZl3AJJkXbVKEEfxZvBPNN93ncQ&oe=61F4C2AE'>_5_</a>\", \"<a target='_blank' href='https://scontent-lga3-1.xx.fbcdn.net/v/t39.30808-6/s960x960/253622510_1025653274662155_3502731908128609457_n.jpg?_nc_cat=106&ccb=1-5&_nc_sid=843cd7&_nc_ohc=zNnSkX0SsjUAX8Qbs--&_nc_oc=AQkR_GL0Hv8VbTpr4msMK0QFrPUcaUDsR5hJDMC1RsR_cGmsAMJd1Yfm0u-lQOATnQ0&_nc_ht=scontent-lga3-1.xx&oh=00_AT8DI1h2BJyDOUpiZL-NJz6FOzklvelge9YA-xwLMPjW6g&oe=61F5283D'>_6_</a>\", \"<a target='_blank' href='https://scontent-lga3-1.xx.fbcdn.net/v/t39.30808-6/s960x960/252882043_1025653027995513_5291779300370024000_n.jpg?_nc_cat=110&ccb=1-5&_nc_sid=843cd7&_nc_ohc=UAjUbI3eSOEAX8qjvvX&_nc_ht=scontent-lga3-1.xx&oh=00_AT-tvf_MxMvPqOXtNmfwmneLAV7tUv2-43MlGCc0AlaxVQ&oe=61F524B3'>_7_</a>\", \"<a target='_blank' href='https://scontent-lga3-1.xx.fbcdn.net/v/t39.30808-6/s960x960/252282749_1025653151328834_34804467780749544_n.jpg?_nc_cat=101&ccb=1-5&_nc_sid=843cd7&_nc_ohc=Us6CaDDyIiAAX8_jtCX&_nc_ht=scontent-lga3-1.xx&oh=00_AT-iqSCd74gdkGo1-As6veZILbx7qMGDgwMwdokkOALZHg&oe=61F66041'>_8_</a>\", \"<a target='_blank' href='https://scontent-lga3-1.xx.fbcdn.net/v/t39.30808-6/s960x960/254669860_1025653194662163_5674909516182633712_n.jpg?_nc_cat=109&ccb=1-5&_nc_sid=843cd7&_nc_ohc=K500vYm2s3MAX-F0nf1&_nc_ht=scontent-lga3-1.xx&oh=00_AT97Q9_iDFzrfVUwQxGvoBbTsalb3fbNdlfNXci5w7JPXw&oe=61F4B8D3'>_9_</a>\", \"<a target='_blank' href='https://scontent-lga3-1.xx.fbcdn.net/v/t39.30808-6/s960x960/250513799_1025653244662158_2777286950825038259_n.jpg?_nc_cat=110&ccb=1-5&_nc_sid=843cd7&_nc_ohc=b3McVoId_YAAX9vM15K&_nc_ht=scontent-lga3-1.xx&oh=00_AT8-5QbjlhKS3npjCHDIDwzUeOOj73_M-84v3x7nZDDxLQ&oe=61F5895F'>_10_</a>\", \"<a target='_blank' href='https://scontent-lga3-1.xx.fbcdn.net/v/t39.30808-6/s960x960/252801491_1025653301328819_3995097569154715310_n.jpg?_nc_cat=110&ccb=1-5&_nc_sid=843cd7&_nc_ohc=VeoDNuptG40AX9xJw5g&_nc_ht=scontent-lga3-1.xx&oh=00_AT-_PB3dS3jdDjqXPyNxhCcGQrvE-_J2awFK6ALvKVaZBg&oe=61F5D976'>_11_</a>\"]</td>\n",
       "      <td id=\"T_b1503_row1_col8\" class=\"data row1 col8\" >Grand appartement au 2018 rue Montcalm Montréal.\n",
       "-2 gdes chambres\n",
       "-2salle d'eau baignoire &douches\n",
       "-1salon et salle à manger\n",
       "-1 gde cuisine\n",
       "-1balcon ombragé\n",
       "-10 mn du métro Berri, Sherbrooke, Beaudry \n",
       "2mn de Super C' StJacques\n",
       "1 350$/mois sans équipements. </td>\n",
       "    </tr>\n",
       "    <tr>\n",
       "      <th id=\"T_b1503_level0_row2\" class=\"row_heading level0 row2\" >2</th>\n",
       "      <td id=\"T_b1503_row2_col0\" class=\"data row2 col0\" ><a target='_blank' href='https://www.facebook.com/marketplace/item/895014044547565/'>7565</a></td>\n",
       "      <td id=\"T_b1503_row2_col1\" class=\"data row2 col1\" >2022-01-17</td>\n",
       "      <td id=\"T_b1503_row2_col2\" class=\"data row2 col2\" >1210</td>\n",
       "      <td id=\"T_b1503_row2_col3\" class=\"data row2 col3\" >2</td>\n",
       "      <td id=\"T_b1503_row2_col4\" class=\"data row2 col4\" ></td>\n",
       "      <td id=\"T_b1503_row2_col5\" class=\"data row2 col5\" ><a target='_blank' href='https://www.google.com/maps/place/4530+Avenue+Coloniale,+Montr%C3%A9al,+QC'>4530 Avenue Coloniale</a></td>\n",
       "      <td id=\"T_b1503_row2_col6\" class=\"data row2 col6\" >Non meublé</td>\n",
       "      <td id=\"T_b1503_row2_col7\" class=\"data row2 col7\" >[\"<a target='_blank' href='https://scontent-lga3-1.xx.fbcdn.net/v/t39.30808-6/p720x720/271721702_10224714637305991_4011683934220873488_n.jpg?_nc_cat=104&ccb=1-5&_nc_sid=843cd7&_nc_ohc=tugRkAs36rYAX8YGc9Q&_nc_ht=scontent-lga3-1.xx&oh=00_AT8JjPtz7JaL-FSC7QBS6H2slB5ziPZBIZ37Mu8vJ7qCWQ&oe=61F5BCE3'>_1_</a>\", \"<a target='_blank' href='https://scontent-lga3-1.xx.fbcdn.net/v/t39.30808-6/p720x720/271750549_10224714637986008_598679935502502312_n.jpg?_nc_cat=108&ccb=1-5&_nc_sid=843cd7&_nc_ohc=MTAOaSyxX-AAX-wzlFB&_nc_ht=scontent-lga3-1.xx&oh=00_AT_nyBufYikL5rVq4-D7bqWQ3VEmmyurnqT20fAA4Qg11Q&oe=61F4B9A8'>_2_</a>\", \"<a target='_blank' href='https://scontent-lga3-1.xx.fbcdn.net/v/t39.30808-6/p720x720/271302050_10224714637265990_737591858114008781_n.jpg?_nc_cat=104&ccb=1-5&_nc_sid=843cd7&_nc_ohc=ohWuEXtbg08AX8VX7Uz&_nc_oc=AQnDRIlKPo0p3JzbcizYwlPQTMcBbo099SO6w5ayFeC_UEr-XUakknQ7sav83_n271o&_nc_ht=scontent-lga3-1.xx&oh=00_AT9UOz9AJls4QxLks6_HA4Xitx9FtpTS6obXbY0xKSdzjg&oe=61F608D2'>_3_</a>\", \"<a target='_blank' href='https://scontent-lga3-1.xx.fbcdn.net/v/t39.30808-6/p720x720/270291784_10224714638146012_7474666346136329977_n.jpg?_nc_cat=103&ccb=1-5&_nc_sid=843cd7&_nc_ohc=Jpae4FsxyL8AX-jj2jy&_nc_ht=scontent-lga3-1.xx&oh=00_AT_TxdZR8xj42Ld2yjY2GZzQL_z21fBrUVBOY7MxBBn5MA&oe=61F52731'>_4_</a>\", \"<a target='_blank' href='https://scontent-lga3-1.xx.fbcdn.net/v/t39.30808-6/p720x720/270052051_10224714637906006_9181481025538733291_n.jpg?_nc_cat=108&ccb=1-5&_nc_sid=843cd7&_nc_ohc=CgYD8L9ucPMAX_Lun3U&_nc_ht=scontent-lga3-1.xx&oh=00_AT-cMIvSNxwr7A-e1L_H53omU5fmGUBa_Av3Gyn0YBjRwg&oe=61F5CB78'>_5_</a>\", \"<a target='_blank' href='https://scontent-lga3-1.xx.fbcdn.net/v/t39.30808-6/p720x720/269906213_10224714637946007_7319615271660278619_n.jpg?_nc_cat=111&ccb=1-5&_nc_sid=843cd7&_nc_ohc=lGp_mHUVc3wAX9K3e7U&_nc_ht=scontent-lga3-1.xx&oh=00_AT9f-bzaUdR1vzNwr5PybTP9SjRhZKRUg91WOGW98cjmgg&oe=61F480B2'>_6_</a>\", \"<a target='_blank' href='https://scontent-lga3-1.xx.fbcdn.net/v/t39.30808-6/p720x720/271598455_10224714637425994_8228386356548484961_n.jpg?_nc_cat=100&ccb=1-5&_nc_sid=843cd7&_nc_ohc=3Qkj4KPxYzoAX_slklZ&_nc_ht=scontent-lga3-1.xx&oh=00_AT8-ZksMdiLtyvxZVIOG6VVijz5wYbfbbFCyRWrQHr2BiQ&oe=61F583FF'>_7_</a>\"]</td>\n",
       "      <td id=\"T_b1503_row2_col8\" class=\"data row2 col8\" >CESSION DE BAIL\n",
       "\n",
       "This newly renovated, quaint 4 1/2 is available for lease transfer. Available for March 1, the lease renews in September 2022.\n",
       "\n",
       "Amazing location: within 10 minute walk from multiple grocery stores, pharmacies, bars, restaurants, Parc Jeanne Mance and the mountain AND Mont-Royal metro station. \n",
       "\n",
       "The unit is a bright half-basement in a quiet building with lots of young professionals.\n",
       "\n",
       "Unfurnished.\n",
       "Pet friendly for cats and small dogs.\n",
       "\n",
       "*Walls will be painted white before the apartment is transferred!* </td>\n",
       "    </tr>\n",
       "    <tr>\n",
       "      <th id=\"T_b1503_level0_row3\" class=\"row_heading level0 row3\" >3</th>\n",
       "      <td id=\"T_b1503_row3_col0\" class=\"data row3 col0\" ><a target='_blank' href='https://www.facebook.com/marketplace/item/352244549736970/'>6970</a></td>\n",
       "      <td id=\"T_b1503_row3_col1\" class=\"data row3 col1\" >2022-01-19</td>\n",
       "      <td id=\"T_b1503_row3_col2\" class=\"data row3 col2\" >1440</td>\n",
       "      <td id=\"T_b1503_row3_col3\" class=\"data row3 col3\" >2</td>\n",
       "      <td id=\"T_b1503_row3_col4\" class=\"data row3 col4\" >65</td>\n",
       "      <td id=\"T_b1503_row3_col5\" class=\"data row3 col5\" ><a target='_blank' href='https://www.google.com/maps/place/1560+Rue+Poupart,+Montr%C3%A9al,+QC'>1560 Rue Poupart</a></td>\n",
       "      <td id=\"T_b1503_row3_col6\" class=\"data row3 col6\" ></td>\n",
       "      <td id=\"T_b1503_row3_col7\" class=\"data row3 col7\" >[\"<a target='_blank' href='https://scontent-lga3-1.xx.fbcdn.net/v/t45.5328-4/271850780_4831811840216286_7817698383479655813_n.png?_nc_cat=104&ccb=1-5&_nc_sid=c48759&_nc_ohc=7naASW5UPsAAX9qIWkO&_nc_ht=scontent-lga3-1.xx&oh=00_AT-HIO4mdi-U0AQr7U1B4W24yA7zRSfyPk4JLNkqa9Mcng&oe=61F4F4B3'>_1_</a>\", \"<a target='_blank' href='https://scontent-lga3-1.xx.fbcdn.net/v/t45.5328-4/263712971_4781403041974523_369971233634998460_n.jpg?_nc_cat=106&ccb=1-5&_nc_sid=c48759&_nc_ohc=nbKvfotniyEAX-pJ1Y1&_nc_oc=AQlSE3r29bvCU6o5qd36Aa3ElZ74vA5lJdfYLk-Q-yEZauEbcINWks-Pr_76wKIPIDQ&_nc_ht=scontent-lga3-1.xx&oh=00_AT9i6hXku0chvfQLoI8HMwy4w8nptX4nDU9grb5pp5PE8w&oe=61F585CC'>_2_</a>\", \"<a target='_blank' href='https://scontent-lga3-1.xx.fbcdn.net/v/t45.5328-4/263799808_4943751295673688_8259409611853292975_n.jpg?_nc_cat=103&ccb=1-5&_nc_sid=c48759&_nc_ohc=V6zu6Lp5P3IAX-qKzJA&_nc_ht=scontent-lga3-1.xx&oh=00_AT-qIDMCSOMZycxNfVTnzTybIpGwYt5y-NAZvUWKUObzeg&oe=61F4F95D'>_3_</a>\", \"<a target='_blank' href='https://scontent-lga3-1.xx.fbcdn.net/v/t45.5328-4/271722635_4858809660832280_6933844338093343722_n.jpg?_nc_cat=103&ccb=1-5&_nc_sid=c48759&_nc_ohc=Aj4ZDM7triMAX8eYjSd&_nc_ht=scontent-lga3-1.xx&oh=00_AT8DVBm1aljwQ-aQk4tvWNlpI4n48oJL662pH2ecjSCzwg&oe=61F62970'>_4_</a>\", \"<a target='_blank' href='https://scontent-lga3-1.xx.fbcdn.net/v/t45.5328-4/269861118_4537674539688621_6055819432740040914_n.jpg?_nc_cat=107&ccb=1-5&_nc_sid=c48759&_nc_ohc=GmHD0ENPY0sAX9PflsP&_nc_ht=scontent-lga3-1.xx&oh=00_AT8T-hC0Y2P4QNfGk-c0FLACXzyqeKUu6zGanlZg2wlA8g&oe=61F62976'>_5_</a>\", \"<a target='_blank' href='https://scontent-lga3-1.xx.fbcdn.net/v/t45.5328-4/261363322_4824016217653191_5250913256811758968_n.jpg?_nc_cat=103&ccb=1-5&_nc_sid=c48759&_nc_ohc=KDUR20ujYuUAX8praWK&_nc_ht=scontent-lga3-1.xx&oh=00_AT_GHqy96_hbfY_J6CDxa3zv-Cz7lpiwEPv4bUq61Ukbcw&oe=61F61083'>_6_</a>\", \"<a target='_blank' href='https://scontent-lga3-1.xx.fbcdn.net/v/t45.5328-4/268068654_4550583815039608_2063358228515072615_n.jpg?_nc_cat=108&ccb=1-5&_nc_sid=c48759&_nc_ohc=s1zVQCZfQqEAX_5RuBn&_nc_ht=scontent-lga3-1.xx&oh=00_AT8daIqAdxbDCptUmAz8K3xDGv28_XrqnxKvy4S2UuVHKg&oe=61F5E684'>_7_</a>\", \"<a target='_blank' href='https://scontent-lga3-1.xx.fbcdn.net/v/t45.5328-4/264910659_4686776158096842_1890161083797450673_n.jpg?_nc_cat=105&ccb=1-5&_nc_sid=c48759&_nc_ohc=MysiyJhnA2AAX_M90R4&_nc_ht=scontent-lga3-1.xx&oh=00_AT_65u7f3XaVMnjzxXkGLfn6sRvEcUQdWr7u-SGMMjj5ZA&oe=61F5168C'>_8_</a>\"]</td>\n",
       "      <td id=\"T_b1503_row3_col8\" class=\"data row3 col8\" >Noter que le prix de 1,440 est un prix réduit, l'appartement sera a 1,600 apres la fin du bail. \n",
       "\n",
       "Unité à Ville-Marie à 8 minutes du métro Papineau ou Frontenac, à proximité de tous les services. Deux chambres fermées, IMMENSE terrasse arrière (10X15 - ensoleillée tout l'après-midi), belle cuisine avec îlot, salle de bains avec douche. Disponible pour le 15 Decembre (Le reste de Decembre est gratuit). Immeuble tranquille complètement rénové en 2020. Sur une rue tranquille à proximité de tous les services.\n",
       "LES ATOUTS:\n",
       "- Aire ouverte entre salon, salle à manger et cuisine;\n",
       "- Insonorisation supérieure entre les étages;\n",
       "- Mur de briques restoré dans une des chambres;\n",
       "- Grande terrasse arrière;\n",
       "- Salle de bains avec douche;\n",
       "- Électroménagers en inox inclus;\n",
       "- Laveuse-sécheuse inclus.\n",
       "\n",
       "Passation de Bail. À visiter! Chauffage et électricité non-inclus.\n",
       "\n",
       "---\n",
       "\n",
       "Unit in Ville-Marie 8 minutes walk from Papineau or Frontenac metro, close to all services. Two closed bedrooms, HUGE back terrace (10X15), beautiful kitchen with island, bathroom with shower. Available December 15 (December is free).\n",
       "\n",
       "In a quiet building entirely renovated in 2020. On a quiet street close to all services and Papineau or Frontenac metro. Two closed bedrooms.\n",
       "\n",
       "THE UNIT:\n",
       "- Open-concept living area (kitchen, dining, living room);\n",
       "- Superior soundproofing between units; - Restored brick wall in one of the bedrooms;\n",
       "- Large rear terrasse;\n",
       "- Bathroom with shower;\n",
       "- Stainless appliances included;\n",
       "- Washer-dryer included.\n",
       "\n",
       "Lease Transfer. Heating and electricity not included </td>\n",
       "    </tr>\n",
       "  </tbody>\n",
       "</table>\n"
      ],
      "text/plain": [
       "<pandas.io.formats.style.Styler at 0x12cdfda60>"
      ]
     },
     "execution_count": 6,
     "metadata": {},
     "output_type": "execute_result"
    }
   ],
   "source": [
    "df2 = df[df.state == 'new'].drop(columns=['state'])\n",
    "df2.style.format({\n",
    "    'url': make_url_clickable,\n",
    "    'images': make_img_clickable,\n",
    "    'address': make_address_clickable\n",
    "    })\n"
   ]
  },
  {
   "cell_type": "markdown",
   "metadata": {},
   "source": [
    "Choose which new ads are interesting or not:"
   ]
  },
  {
   "cell_type": "code",
   "execution_count": 107,
   "metadata": {},
   "outputs": [],
   "source": [
    "interested = [1, 3]\n",
    "not_interested = [0, 2, 4, 5]\n",
    "for idx in interested:\n",
    "    df.loc[idx, 'state'] = 'I'\n",
    "for idx in not_interested:\n",
    "    df.loc[idx, 'state'] = 'NI'"
   ]
  },
  {
   "cell_type": "markdown",
   "metadata": {},
   "source": [
    "Save changes:"
   ]
  },
  {
   "cell_type": "code",
   "execution_count": 131,
   "metadata": {},
   "outputs": [],
   "source": [
    "db_path = os.path.join(\n",
    "            os.path.dirname(os.getcwd()),\n",
    "            \"raw_data/db.json\",\n",
    "        )\n",
    "with open(db_path, 'w') as db_file:\n",
    "    db = df.to_json(path_or_buf= db_file, orient='split', index=False)"
   ]
  },
  {
   "cell_type": "markdown",
   "metadata": {},
   "source": [
    "# Check interesting ads"
   ]
  },
  {
   "cell_type": "code",
   "execution_count": null,
   "metadata": {},
   "outputs": [],
   "source": [
    "df2 = df[df.state == 'I'].drop(columns=['state'])\n",
    "df2.style.format({\n",
    "    'url': make_url_clickable,\n",
    "    'images': make_img_clickable,\n",
    "    'address': make_address_clickable\n",
    "    })\n"
   ]
  }
 ],
 "metadata": {
  "interpreter": {
   "hash": "0e81dea60ba2ae063098b6fefffc9a3fe963b5aba2665de3e2390959e71061a4"
  },
  "kernelspec": {
   "display_name": "Python 3.8.12 64-bit ('base': conda)",
   "language": "python",
   "name": "python3"
  },
  "language_info": {
   "codemirror_mode": {
    "name": "ipython",
    "version": 3
   },
   "file_extension": ".py",
   "mimetype": "text/x-python",
   "name": "python",
   "nbconvert_exporter": "python",
   "pygments_lexer": "ipython3",
   "version": "3.8.12"
  },
  "orig_nbformat": 4
 },
 "nbformat": 4,
 "nbformat_minor": 2
}
