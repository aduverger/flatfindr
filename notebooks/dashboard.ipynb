{
 "cells": [
  {
   "cell_type": "code",
   "execution_count": 2,
   "metadata": {},
   "outputs": [
    {
     "name": "stdout",
     "output_type": "stream",
     "text": [
      "The autoreload extension is already loaded. To reload it, use:\n",
      "  %reload_ext autoreload\n"
     ]
    }
   ],
   "source": [
    "import os\n",
    "import pandas as pd\n",
    "from flatfindr.utils import *\n",
    "%load_ext autoreload\n",
    "%autoreload 2\n",
    "\n",
    "# Import DB\n",
    "db_path = os.path.join(\n",
    "            os.path.dirname(os.getcwd()),\n",
    "            \"raw_data/db.json\",\n",
    "        )"
   ]
  },
  {
   "cell_type": "markdown",
   "metadata": {},
   "source": [
    "# Check new ads"
   ]
  },
  {
   "cell_type": "code",
   "execution_count": 4,
   "metadata": {},
   "outputs": [
    {
     "data": {
      "text/plain": [
       "'Number of new ads: 11'"
      ]
     },
     "execution_count": 4,
     "metadata": {},
     "output_type": "execute_result"
    }
   ],
   "source": [
    "# Check how many new ads there are\n",
    "f\"Number of new ads: {df[df.state == 'new'].shape[0]}\""
   ]
  },
  {
   "cell_type": "code",
   "execution_count": 6,
   "metadata": {},
   "outputs": [
    {
     "data": {
      "text/html": [
       "<style type=\"text/css\">\n",
       "</style>\n",
       "<table id=\"T_5be89_\">\n",
       "  <thead>\n",
       "    <tr>\n",
       "      <th class=\"blank level0\" >&nbsp;</th>\n",
       "      <th class=\"col_heading level0 col0\" >url</th>\n",
       "      <th class=\"col_heading level0 col1\" >published</th>\n",
       "      <th class=\"col_heading level0 col2\" >price</th>\n",
       "      <th class=\"col_heading level0 col3\" >bedrooms</th>\n",
       "      <th class=\"col_heading level0 col4\" >surface</th>\n",
       "      <th class=\"col_heading level0 col5\" >address</th>\n",
       "      <th class=\"col_heading level0 col6\" >furnished</th>\n",
       "      <th class=\"col_heading level0 col7\" >images</th>\n",
       "      <th class=\"col_heading level0 col8\" >description</th>\n",
       "    </tr>\n",
       "  </thead>\n",
       "  <tbody>\n",
       "    <tr>\n",
       "      <th id=\"T_5be89_level0_row0\" class=\"row_heading level0 row0\" >383</th>\n",
       "      <td id=\"T_5be89_row0_col0\" class=\"data row0 col0\" ><a target='_blank' href='https://www.facebook.com/marketplace/item/1107074430092671/'>2671</a></td>\n",
       "      <td id=\"T_5be89_row0_col1\" class=\"data row0 col1\" >2022-01-31</td>\n",
       "      <td id=\"T_5be89_row0_col2\" class=\"data row0 col2\" >1350</td>\n",
       "      <td id=\"T_5be89_row0_col3\" class=\"data row0 col3\" >2</td>\n",
       "      <td id=\"T_5be89_row0_col4\" class=\"data row0 col4\" ></td>\n",
       "      <td id=\"T_5be89_row0_col5\" class=\"data row0 col5\" ><a target='_blank' href='https://www.google.com/maps/place/314+Rue+Peel,+Montr%C3%A9al,+QC'>314 Rue Peel</a></td>\n",
       "      <td id=\"T_5be89_row0_col6\" class=\"data row0 col6\" >Non meublé</td>\n",
       "      <td id=\"T_5be89_row0_col7\" class=\"data row0 col7\" >[]</td>\n",
       "      <td id=\"T_5be89_row0_col8\" class=\"data row0 col8\" >Location pour mars ou avril 2022\n",
       "\n",
       "Logement de 2 chambre + 1 salle de bain ENTIÈREMENT MEUBLÉE dans Griffintown. À deux pas de l’ETS et près de tous les services (supermarchés, pharmacies, restaurants, magasins) à quelques minutes de marche de la station de métro Bonaventure. Accès au centre-ville et au vieux port facilement à la marche.\n",
       "\n",
       "1350 $ / mois\n",
       "Les meubles et électroménagers sont inclus\n",
       "Sont exclus les charges d’énergies \n",
       "\n",
       "Contactez-nous pour effectuer une visite ou pour plus d’informations ! \n",
       "\n",
       "Location for march or april 2022\n",
       "\n",
       "2 bedroom + 1 bathroom apartment FULLY FURNISHED un Griffintown, two steps from ETS - École de technologie superieur, close to all amenities (supermarket, pharmacy, restaurants, shops) and just a few minutes walk from Bonaventure métro station. Easy acces by walk to downtown and  Old Port.\n",
       "\n",
       "1350$ / month \n",
       "Fournitures and appliances are included \n",
       "Energy bill is excluded \n",
       "\n",
       "Contact us to schedule a visit or for mire information ! </td>\n",
       "    </tr>\n",
       "    <tr>\n",
       "      <th id=\"T_5be89_level0_row1\" class=\"row_heading level0 row1\" >387</th>\n",
       "      <td id=\"T_5be89_row1_col0\" class=\"data row1 col0\" ><a target='_blank' href='https://www.facebook.com/marketplace/item/2797495220552229/'>2229</a></td>\n",
       "      <td id=\"T_5be89_row1_col1\" class=\"data row1 col1\" >2022-01-31</td>\n",
       "      <td id=\"T_5be89_row1_col2\" class=\"data row1 col2\" >1500</td>\n",
       "      <td id=\"T_5be89_row1_col3\" class=\"data row1 col3\" >2</td>\n",
       "      <td id=\"T_5be89_row1_col4\" class=\"data row1 col4\" >79</td>\n",
       "      <td id=\"T_5be89_row1_col5\" class=\"data row1 col5\" ><a target='_blank' href='https://www.google.com/maps/place/1251+Rue+St-Marc,+Montr%C3%A9al,+QC'>1251 Rue St-Marc</a></td>\n",
       "      <td id=\"T_5be89_row1_col6\" class=\"data row1 col6\" ></td>\n",
       "      <td id=\"T_5be89_row1_col7\" class=\"data row1 col7\" >[]</td>\n",
       "      <td id=\"T_5be89_row1_col8\" class=\"data row1 col8\" >Condo 4 1/2 moderne et ensoleillé, très bien situé au centre-ville à 5 minutes à pied du métro Guy Concordia. À deux pas des épiceries, des restaurants et des magasins.\n",
       "Il dispose de deux chambres, un espace salon/salle à manger, salle de bain et cuisine séparée. Le frigo et le poêle sont inclus, ainsi qu’une buanderie dans l’immeuble. Le chauffage et l’électricité sont également inclus dans le loyer.\n",
       "Libre immédiatement !\n",
       "Contactez moi pour plus de détails ou pour organiser une visite.\n",
       "[hidden information] </td>\n",
       "    </tr>\n",
       "    <tr>\n",
       "      <th id=\"T_5be89_level0_row2\" class=\"row_heading level0 row2\" >388</th>\n",
       "      <td id=\"T_5be89_row2_col0\" class=\"data row2 col0\" ><a target='_blank' href='https://www.facebook.com/marketplace/item/250974213727151/'>7151</a></td>\n",
       "      <td id=\"T_5be89_row2_col1\" class=\"data row2 col1\" >2022-01-29</td>\n",
       "      <td id=\"T_5be89_row2_col2\" class=\"data row2 col2\" >1200</td>\n",
       "      <td id=\"T_5be89_row2_col3\" class=\"data row2 col3\" >2</td>\n",
       "      <td id=\"T_5be89_row2_col4\" class=\"data row2 col4\" ></td>\n",
       "      <td id=\"T_5be89_row2_col5\" class=\"data row2 col5\" ><a target='_blank' href='https://www.google.com/maps/place/,+Montr%C3%A9al,+QC'></a></td>\n",
       "      <td id=\"T_5be89_row2_col6\" class=\"data row2 col6\" ></td>\n",
       "      <td id=\"T_5be89_row2_col7\" class=\"data row2 col7\" >[]</td>\n",
       "      <td id=\"T_5be89_row2_col8\" class=\"data row2 col8\" >RECHERCHE Appartement de 2 chambres et 1 salle de bain\n",
       "\n",
       "Montréal, Québec, Canada </td>\n",
       "    </tr>\n",
       "    <tr>\n",
       "      <th id=\"T_5be89_level0_row3\" class=\"row_heading level0 row3\" >389</th>\n",
       "      <td id=\"T_5be89_row3_col0\" class=\"data row3 col0\" ><a target='_blank' href='https://www.facebook.com/marketplace/item/363364741868690/'>8690</a></td>\n",
       "      <td id=\"T_5be89_row3_col1\" class=\"data row3 col1\" >2022-01-31</td>\n",
       "      <td id=\"T_5be89_row3_col2\" class=\"data row3 col2\" >1490</td>\n",
       "      <td id=\"T_5be89_row3_col3\" class=\"data row3 col3\" >2</td>\n",
       "      <td id=\"T_5be89_row3_col4\" class=\"data row3 col4\" >84</td>\n",
       "      <td id=\"T_5be89_row3_col5\" class=\"data row3 col5\" ><a target='_blank' href='https://www.google.com/maps/place/6374+Avenue+Papineau,+Montr%C3%A9al,+QC'>6374 Avenue Papineau</a></td>\n",
       "      <td id=\"T_5be89_row3_col6\" class=\"data row3 col6\" ></td>\n",
       "      <td id=\"T_5be89_row3_col7\" class=\"data row3 col7\" >[\"<a target='_blank' href='https://scontent-yyz1-1.xx.fbcdn.net/v/t45.5328-4/s960x960/272915076_5140809755938317_7195668928890206620_n.jpg?_nc_cat=111&ccb=1-5&_nc_sid=c48759&_nc_ohc=pw0Wk897tMIAX_PbDlR&_nc_ht=scontent-yyz1-1.xx&oh=00_AT8pUXA5FkbbLdshSZJ5PNgZJ3xEjETDRCX640PQJyCByw&oe=61FCB8F2'>_1_</a>\"]</td>\n",
       "      <td id=\"T_5be89_row3_col8\" class=\"data row3 col8\" >Grand 4.5  - Rosemont (Petite Patrie\n",
       "\n",
       "LIBRE MAINTENANT\n",
       "\n",
       "Entièrement rénové \n",
       "\n",
       "Inclusions:\n",
       "\n",
       "- Balcon privé\n",
       "- Air clim mural\n",
       "- Électroménagers\n",
       "- WIFI\n",
       "- Locker </td>\n",
       "    </tr>\n",
       "    <tr>\n",
       "      <th id=\"T_5be89_level0_row4\" class=\"row_heading level0 row4\" >391</th>\n",
       "      <td id=\"T_5be89_row4_col0\" class=\"data row4 col0\" ><a target='_blank' href='https://www.facebook.com/marketplace/item/900902630528768/'>8768</a></td>\n",
       "      <td id=\"T_5be89_row4_col1\" class=\"data row4 col1\" >2022-01-31</td>\n",
       "      <td id=\"T_5be89_row4_col2\" class=\"data row4 col2\" >1490</td>\n",
       "      <td id=\"T_5be89_row4_col3\" class=\"data row4 col3\" >2</td>\n",
       "      <td id=\"T_5be89_row4_col4\" class=\"data row4 col4\" >84</td>\n",
       "      <td id=\"T_5be89_row4_col5\" class=\"data row4 col5\" ><a target='_blank' href='https://www.google.com/maps/place/6374+Avenue+Papineau,+Montr%C3%A9al,+QC'>6374 Avenue Papineau</a></td>\n",
       "      <td id=\"T_5be89_row4_col6\" class=\"data row4 col6\" ></td>\n",
       "      <td id=\"T_5be89_row4_col7\" class=\"data row4 col7\" >[\"<a target='_blank' href='https://scontent-yyz1-1.xx.fbcdn.net/v/t45.5328-4/s960x960/272957864_4929284447157405_3460795955711914677_n.jpg?_nc_cat=103&ccb=1-5&_nc_sid=c48759&_nc_ohc=IfLSKvgeCE4AX9l05Wa&_nc_ht=scontent-yyz1-1.xx&oh=00_AT9HgTGaZdIVdzNqyGdDp_k-gIAs8pHEzlEaaXCAwjdABQ&oe=61FD2187'>_1_</a>\"]</td>\n",
       "      <td id=\"T_5be89_row4_col8\" class=\"data row4 col8\" >Grand 4.5  Rosemont (Petite Patrie)\n",
       "\n",
       "À 10 min à pied du métro Beaubien\n",
       "\n",
       "Libre 1er juillet \n",
       "\n",
       "Plusieurs inclusions: \n",
       "- Balcon privé\n",
       "- WIFI\n",
       "- Électroménagers\n",
       "- Air clim mural\n",
       "- Locker au sous-sol </td>\n",
       "    </tr>\n",
       "  </tbody>\n",
       "</table>\n"
      ],
      "text/plain": [
       "<pandas.io.formats.style.Styler at 0x1043ef310>"
      ]
     },
     "execution_count": 6,
     "metadata": {},
     "output_type": "execute_result"
    }
   ],
   "source": [
    "with open(db_path, 'r') as db_file:\n",
    "    df = pd.read_json(db_file, orient='split')\n",
    "\n",
    "interested = []\n",
    "not_interested = [389]\n",
    "\n",
    "for idx in interested:\n",
    "    df.loc[idx, 'state'] = 'I'\n",
    "for idx in not_interested:\n",
    "    df.loc[idx, 'state'] = 'NI'\n",
    "    \n",
    "with open(db_path, 'w') as db_file:\n",
    "    df.to_json(path_or_buf=db_file, orient='split', index=False)\n",
    "\n",
    "df_show = df[df.state == 'new'].drop(columns=['state']).head()\n",
    "df_show.style.format({\n",
    "    'url': make_url_clickable,\n",
    "    'images': make_img_clickable,\n",
    "    'address': make_address_clickable\n",
    "    })\n"
   ]
  },
  {
   "cell_type": "markdown",
   "metadata": {},
   "source": [
    "Save changes:"
   ]
  },
  {
   "cell_type": "code",
   "execution_count": 23,
   "metadata": {},
   "outputs": [],
   "source": [
    "with open(db_path, 'w') as db_file:\n",
    "    df.to_json(path_or_buf=db_file, orient='split', index=False)"
   ]
  },
  {
   "cell_type": "markdown",
   "metadata": {},
   "source": [
    "# Check interesting ads"
   ]
  },
  {
   "cell_type": "code",
   "execution_count": null,
   "metadata": {},
   "outputs": [],
   "source": [
    "df2 = df[df.state == 'I'].drop(columns=['state'])\n",
    "df2.style.format({\n",
    "    'url': make_url_clickable,\n",
    "    'images': make_img_clickable,\n",
    "    'address': make_address_clickable\n",
    "    })"
   ]
  }
 ],
 "metadata": {
  "interpreter": {
   "hash": "0e81dea60ba2ae063098b6fefffc9a3fe963b5aba2665de3e2390959e71061a4"
  },
  "kernelspec": {
   "display_name": "Python 3.8.12 64-bit ('base': conda)",
   "language": "python",
   "name": "python3"
  },
  "language_info": {
   "codemirror_mode": {
    "name": "ipython",
    "version": 3
   },
   "file_extension": ".py",
   "mimetype": "text/x-python",
   "name": "python",
   "nbconvert_exporter": "python",
   "pygments_lexer": "ipython3",
   "version": "3.8.12"
  },
  "orig_nbformat": 4
 },
 "nbformat": 4,
 "nbformat_minor": 2
}
